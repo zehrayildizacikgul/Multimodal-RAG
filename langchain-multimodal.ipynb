{
 "cells": [
  {
   "cell_type": "code",
   "id": "initial_id",
   "metadata": {
    "collapsed": true,
    "ExecuteTime": {
     "end_time": "2025-08-08T12:03:02.506374Z",
     "start_time": "2025-08-08T12:03:02.492095Z"
    }
   },
   "source": [
    "from dotenv import load_dotenv\n",
    "\n",
    "load_dotenv()"
   ],
   "outputs": [
    {
     "data": {
      "text/plain": [
       "True"
      ]
     },
     "execution_count": 1,
     "metadata": {},
     "output_type": "execute_result"
    }
   ],
   "execution_count": 1
  },
  {
   "metadata": {},
   "cell_type": "markdown",
   "source": [
    "## Extract the data\n",
    "\n",
    "Extract the elements of the PDF that we will be able to use in the retrieval process. These elements can be: Text, Images, Tables, etc."
   ],
   "id": "b7ab554498c7779c"
  },
  {
   "metadata": {},
   "cell_type": "markdown",
   "source": "### Partition PDF tables, text, and images",
   "id": "817aa4403bbc506e"
  },
  {
   "metadata": {
    "ExecuteTime": {
     "end_time": "2025-08-08T12:04:22.858463Z",
     "start_time": "2025-08-08T12:03:06.529572Z"
    }
   },
   "cell_type": "code",
   "source": [
    "from unstructured.partition.pdf import partition_pdf\n",
    "\n",
    "\n",
    "# Output and file paths\n",
    "output_path = \"data/\"\n",
    "file_path = output_path + \"Attention_Is_All_You_Need.pdf\"\n",
    "\n",
    "# Reference: https://docs.unstructured.io/open-source/core-functionality/chunking\n",
    "chunks = partition_pdf(\n",
    "    filename=file_path,\n",
    "    infer_table_structure=True,            # extract tables\n",
    "    strategy=\"hi_res\",                     # mandatory to infer tables\n",
    "\n",
    "    extract_image_block_types=[\"Image\"],   # Add 'Table' to list to extract image of tables\n",
    "    # image_output_dir_path=output_path,   # uncomment to save images/tables to specified directory\n",
    "\n",
    "    extract_image_block_to_payload=True,   # if true, will extract base64 for API usage\n",
    "\n",
    "    chunking_strategy=\"by_title\",          # or 'basic', this so important and effective\n",
    "    max_characters=10000,                  # defaults to 500\n",
    "    combine_text_under_n_chars=2000,       # defaults to 0\n",
    "    new_after_n_chars=6000,\n",
    "\n",
    "    # extract_images_in_pdf=True,          # deprecated\n",
    ")"
   ],
   "id": "e535a44f8847ad40",
   "outputs": [
    {
     "name": "stdout",
     "output_type": "stream",
     "text": [
      "Warning: No languages specified, defaulting to English.\n"
     ]
    },
    {
     "name": "stderr",
     "output_type": "stream",
     "text": [
      "The `max_size` parameter is deprecated and will be removed in v4.26. Please specify in `size['longest_edge'] instead`.\n"
     ]
    }
   ],
   "execution_count": 2
  },
  {
   "metadata": {},
   "cell_type": "markdown",
   "source": [
    "    chunking_strategy=\"by_title\",\n",
    "    max_characters=10000,\n",
    "    combine_text_under_n_chars=2000,\n",
    "    new_after_n_chars=6000,\n",
    "\n",
    "before this code snipped len(chunks) = 220\n",
    "now just 12  <b>\n",
    "super useful for RAG"
   ],
   "id": "6dd59774de4e05d1"
  },
  {
   "metadata": {
    "ExecuteTime": {
     "end_time": "2025-08-08T12:04:32.132162Z",
     "start_time": "2025-08-08T12:04:32.126304Z"
    }
   },
   "cell_type": "code",
   "source": [
    "# We get 2 types of elements from the partition_pdf function\n",
    "set([str(type(el)) for el in chunks])"
   ],
   "id": "b721d74c34b874d4",
   "outputs": [
    {
     "data": {
      "text/plain": [
       "{\"<class 'unstructured.documents.elements.CompositeElement'>\"}"
      ]
     },
     "execution_count": 3,
     "metadata": {},
     "output_type": "execute_result"
    }
   ],
   "execution_count": 3
  },
  {
   "metadata": {
    "ExecuteTime": {
     "end_time": "2025-08-08T12:04:33.604812Z",
     "start_time": "2025-08-08T12:04:33.599402Z"
    }
   },
   "cell_type": "code",
   "source": "len(chunks)",
   "id": "8a78a7fdc4414b29",
   "outputs": [
    {
     "data": {
      "text/plain": [
       "12"
      ]
     },
     "execution_count": 4,
     "metadata": {},
     "output_type": "execute_result"
    }
   ],
   "execution_count": 4
  },
  {
   "metadata": {
    "ExecuteTime": {
     "end_time": "2025-08-08T12:04:35.161544Z",
     "start_time": "2025-08-08T12:04:35.138541Z"
    }
   },
   "cell_type": "code",
   "source": "chunks[0].to_dict()",
   "id": "39d10f25b1323a6e",
   "outputs": [
    {
     "data": {
      "text/plain": [
       "{'type': 'CompositeElement',\n",
       " 'element_id': '3b36ceebe3f84a61e476b7628271c701',\n",
       " 'text': '3\\n\\n2023\\n\\n2\\n\\n0\\n\\n2\\n\\ng u A 2 ] L C . s c [ 7 v 2 6 7 3 0 . 6 0\\n\\n7\\n\\n1\\n\\n:\\n\\nv\\n\\narXiv\\n\\ni\\n\\nX\\n\\nr\\n\\na\\n\\nProvided proper attribution is provided, Google hereby grants permission to reproduce the tables and figures in this paper solely for use in journalistic or scholarly works.\\n\\nAttention Is All You Need\\n\\nAshish Vaswani∗\\n\\nGoogle Brain\\n\\navaswani@google.com\\n\\nNoam Shazeer∗ Google Brain noam@google.com\\n\\nNiki Parmar∗ Google Research nikip@google.com\\n\\nJakob Uszkoreit∗\\n\\nGoogle Research usz@google.com\\n\\nLlion Jones∗\\n\\nGoogle Research llion@google.com\\n\\nAidan N. Gomez∗ † University of Toronto aidan@cs.toronto.edu\\n\\nŁukasz Kaiser∗ Google Brain lukaszkaiser@google.com\\n\\nIllia Polosukhin∗ ‡\\n\\nillia.polosukhin@gmail.com\\n\\nAbstract\\n\\nThe dominant sequence transduction models are based on complex recurrent or convolutional neural networks that include an encoder and a decoder. The best performing models also connect the encoder and decoder through an attention mechanism. We propose a new simple network architecture, the Transformer, based solely on attention mechanisms, dispensing with recurrence and convolutions entirely. Experiments on two machine translation tasks show these models to be superior in quality while being more parallelizable and requiring significantly less time to train. Our model achieves 28.4 BLEU on the WMT 2014 English- to-German translation task, improving over the existing best results, including ensembles, by over 2 BLEU. On the WMT 2014 English-to-French translation task, our model establishes a new single-model state-of-the-art BLEU score of 41.8 after training for 3.5 days on eight GPUs, a small fraction of the training costs of the best models from the literature. We show that the Transformer generalizes well to other tasks by applying it successfully to English constituency parsing both with large and limited training data.\\n\\n∗Equal contribution. Listing order is random. Jakob proposed replacing RNNs with self-attention and started the effort to evaluate this idea. Ashish, with Illia, designed and implemented the first Transformer models and has been crucially involved in every aspect of this work. Noam proposed scaled dot-product attention, multi-head attention and the parameter-free position representation and became the other person involved in nearly every detail. Niki designed, implemented, tuned and evaluated countless model variants in our original codebase and tensor2tensor. Llion also experimented with novel model variants, was responsible for our initial codebase, and efficient inference and visualizations. Lukasz and Aidan spent countless long days designing various parts of and implementing tensor2tensor, replacing our earlier codebase, greatly improving results and massively accelerating our research.\\n\\n†Work performed while at Google Brain.\\n\\n‡Work performed while at Google Research.\\n\\n31st Conference on Neural Information Processing Systems (NIPS 2017), Long Beach, CA, USA.',\n",
       " 'metadata': {'filetype': 'application/pdf',\n",
       "  'languages': ['eng'],\n",
       "  'last_modified': '2025-07-30T10:39:08',\n",
       "  'page_number': 1,\n",
       "  'orig_elements': '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',\n",
       "  'file_directory': 'data',\n",
       "  'filename': 'Attention_Is_All_You_Need.pdf'}}"
      ]
     },
     "execution_count": 5,
     "metadata": {},
     "output_type": "execute_result"
    }
   ],
   "execution_count": 5
  },
  {
   "metadata": {
    "ExecuteTime": {
     "end_time": "2025-08-08T12:04:35.853767Z",
     "start_time": "2025-08-08T12:04:35.847356Z"
    }
   },
   "cell_type": "code",
   "source": "chunks[7].metadata.orig_elements",
   "id": "42fa9eb48cc90a16",
   "outputs": [
    {
     "data": {
      "text/plain": [
       "[<unstructured.documents.elements.Title at 0x177100579b0>,\n",
       " <unstructured.documents.elements.NarrativeText at 0x177100550d0>,\n",
       " <unstructured.documents.elements.Title at 0x17710057770>,\n",
       " <unstructured.documents.elements.NarrativeText at 0x177699a3d70>,\n",
       " <unstructured.documents.elements.Title at 0x177699a3440>,\n",
       " <unstructured.documents.elements.NarrativeText at 0x177699a2e40>,\n",
       " <unstructured.documents.elements.Title at 0x177699a3b60>,\n",
       " <unstructured.documents.elements.NarrativeText at 0x177699a2f30>,\n",
       " <unstructured.documents.elements.Formula at 0x177100519a0>,\n",
       " <unstructured.documents.elements.NarrativeText at 0x17710050680>,\n",
       " <unstructured.documents.elements.Title at 0x17710052330>,\n",
       " <unstructured.documents.elements.NarrativeText at 0x17710051af0>,\n",
       " <unstructured.documents.elements.Footer at 0x17710053740>,\n",
       " <unstructured.documents.elements.FigureCaption at 0x17710056c60>,\n",
       " <unstructured.documents.elements.Table at 0x177699a3e30>,\n",
       " <unstructured.documents.elements.NarrativeText at 0x177699a3560>,\n",
       " <unstructured.documents.elements.NarrativeText at 0x17758621880>]"
      ]
     },
     "execution_count": 6,
     "metadata": {},
     "output_type": "execute_result"
    }
   ],
   "execution_count": 6
  },
  {
   "metadata": {
    "ExecuteTime": {
     "end_time": "2025-08-08T12:04:38.141847Z",
     "start_time": "2025-08-08T12:04:38.135846Z"
    }
   },
   "cell_type": "code",
   "source": "chunks[3].metadata.orig_elements\n",
   "id": "94b11dbb5e5d7378",
   "outputs": [
    {
     "data": {
      "text/plain": [
       "[<unstructured.documents.elements.Title at 0x1775af0e8d0>,\n",
       " <unstructured.documents.elements.NarrativeText at 0x1775af0c1d0>,\n",
       " <unstructured.documents.elements.Footer at 0x177586b1850>,\n",
       " <unstructured.documents.elements.Text at 0x177585ba600>,\n",
       " <unstructured.documents.elements.Text at 0x17710057200>,\n",
       " <unstructured.documents.elements.Image at 0x1775af0d010>,\n",
       " <unstructured.documents.elements.Image at 0x1775af0fe90>,\n",
       " <unstructured.documents.elements.NarrativeText at 0x177586151c0>,\n",
       " <unstructured.documents.elements.NarrativeText at 0x177586b3530>,\n",
       " <unstructured.documents.elements.Title at 0x177585a7f80>,\n",
       " <unstructured.documents.elements.NarrativeText at 0x177585a4080>,\n",
       " <unstructured.documents.elements.NarrativeText at 0x17768266840>,\n",
       " <unstructured.documents.elements.Formula at 0x177585b9fd0>,\n",
       " <unstructured.documents.elements.NarrativeText at 0x177585ba210>,\n",
       " <unstructured.documents.elements.NarrativeText at 0x177585bbf80>]"
      ]
     },
     "execution_count": 7,
     "metadata": {},
     "output_type": "execute_result"
    }
   ],
   "execution_count": 7
  },
  {
   "metadata": {
    "ExecuteTime": {
     "end_time": "2025-08-08T12:04:39.239827Z",
     "start_time": "2025-08-08T12:04:39.232864Z"
    }
   },
   "cell_type": "code",
   "source": [
    "# This is what an extracted image looks like.\n",
    "# It contains the base64 representation only because we set the param extract_image_block_to_payload=True\n",
    "\n",
    "elements = chunks[3].metadata.orig_elements\n",
    "chunk_images = [el for el in elements if 'Image' in str(type(el))]\n",
    "chunk_images[0].to_dict()"
   ],
   "id": "fc9fbef9e6a9b43a",
   "outputs": [
    {
     "data": {
      "text/plain": [
       "{'type': 'Image',\n",
       " 'element_id': '68662514-1e96-40f5-80ea-2779994293c3',\n",
       " 'text': '',\n",
       " 'metadata': {'coordinates': {'points': ((np.float64(486.0),\n",
       "     np.float64(261.1805555555558)),\n",
       "    (np.float64(486.0), np.float64(614.7805555555556)),\n",
       "    (np.float64(664.0), np.float64(614.7805555555556)),\n",
       "    (np.float64(664.0), np.float64(261.1805555555558))),\n",
       "   'system': 'PixelSpace',\n",
       "   'layout_width': 1700,\n",
       "   'layout_height': 2200},\n",
       "  'last_modified': '2025-07-30T10:39:08',\n",
       "  'filetype': 'PPM',\n",
       "  'languages': ['eng'],\n",
       "  'page_number': 4,\n",
       "  'image_base64': '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',\n",
       "  'image_mime_type': 'image/jpeg'}}"
      ]
     },
     "execution_count": 8,
     "metadata": {},
     "output_type": "execute_result"
    }
   ],
   "execution_count": 8
  },
  {
   "metadata": {},
   "cell_type": "markdown",
   "source": "### Separate extracted elements into tables, text, and images",
   "id": "24dc1058dd4d3c74"
  },
  {
   "metadata": {
    "ExecuteTime": {
     "end_time": "2025-08-08T12:04:41.090072Z",
     "start_time": "2025-08-08T12:04:41.085185Z"
    }
   },
   "cell_type": "code",
   "source": [
    "# separate tables from texts\n",
    "tables = []\n",
    "texts = []\n",
    "\n",
    "for chunk in chunks:\n",
    "    if \"Table\" in str(type(chunk)):\n",
    "        tables.append(chunk)\n",
    "\n",
    "    if \"CompositeElement\" in str(type((chunk))):\n",
    "        texts.append(chunk)"
   ],
   "id": "7873bb620e031af1",
   "outputs": [],
   "execution_count": 9
  },
  {
   "metadata": {
    "ExecuteTime": {
     "end_time": "2025-08-08T12:04:42.038279Z",
     "start_time": "2025-08-08T12:04:42.033544Z"
    }
   },
   "cell_type": "code",
   "source": [
    "# Get the images from the CompositeElement objects\n",
    "def get_images_base64(chunks):\n",
    "    images_b64 = []\n",
    "    for chunk in chunks:\n",
    "        if \"CompositeElement\" in str(type(chunk)):\n",
    "            chunk_els = chunk.metadata.orig_elements\n",
    "            for el in chunk_els:\n",
    "                if \"Image\" in str(type(el)):\n",
    "                    images_b64.append(el.metadata.image_base64)\n",
    "    return images_b64\n",
    "\n",
    "images = get_images_base64(chunks)"
   ],
   "id": "8d464bd8d37148d2",
   "outputs": [],
   "execution_count": 10
  },
  {
   "metadata": {},
   "cell_type": "markdown",
   "source": "#### Check what the images look like\n",
   "id": "8e57176e352843dc"
  },
  {
   "metadata": {
    "ExecuteTime": {
     "end_time": "2025-08-08T12:04:46.419250Z",
     "start_time": "2025-08-08T12:04:46.401613Z"
    }
   },
   "cell_type": "code",
   "source": [
    "import base64\n",
    "from IPython.display import Image, display\n",
    "\n",
    "def display_base64_image(base64_code):\n",
    "    # Decode the base64 string to binary\n",
    "    image_data = base64.b64decode(base64_code)\n",
    "    # Display the image\n",
    "    display(Image(data=image_data))\n",
    "\n",
    "display_base64_image(images[0])"
   ],
   "id": "bf01da3213429d43",
   "outputs": [
    {
     "data": {
      "image/jpeg": "[encoded data removed]",
      "text/plain": [
       "<IPython.core.display.Image object>"
      ]
     },
     "metadata": {},
     "output_type": "display_data"
    }
   ],
   "execution_count": 11
  },
  {
   "metadata": {},
   "cell_type": "markdown",
   "source": [
    "## Summarize the data\n",
    "\n",
    "Create a summary of each element extracted from the PDF. This summary will be vectorized and used in the retrieval process."
   ],
   "id": "10fcfb9d5927d445"
  },
  {
   "metadata": {},
   "cell_type": "markdown",
   "source": [
    "### Text and Table summaries\n",
    "\n",
    "We don't need a multimodal model to generate the summaries of the tables and the text. I will use open source models available on Groq."
   ],
   "id": "d85d5025679ef2ce"
  },
  {
   "metadata": {
    "ExecuteTime": {
     "end_time": "2025-08-08T12:25:05.513617Z",
     "start_time": "2025-08-08T12:25:04.522648Z"
    }
   },
   "cell_type": "code",
   "source": [
    "from langchain_openai import ChatOpenAI\n",
    "from langchain_core.prompts import ChatPromptTemplate\n",
    "from langchain_core.output_parsers import StrOutputParser"
   ],
   "id": "d0ac93da69594150",
   "outputs": [],
   "execution_count": 26
  },
  {
   "metadata": {
    "ExecuteTime": {
     "end_time": "2025-08-08T12:25:07.768273Z",
     "start_time": "2025-08-08T12:25:06.791664Z"
    }
   },
   "cell_type": "code",
   "source": [
    "# Prompt\n",
    "prompt_text = \"\"\"\n",
    "You are an assistant tasked with summarizing tables and text.\n",
    "Give a concise summary of the table or text.\n",
    "\n",
    "Respond only with the summary, no additionnal comment.\n",
    "Do not start your message by saying \"Here is a summary\" or anything like that.\n",
    "Just give the summary as it is.\n",
    "\n",
    "Table or text chunk: {element}\n",
    "\n",
    "\"\"\"\n",
    "prompt = ChatPromptTemplate.from_template(prompt_text)\n",
    "\n",
    "# Summary chain\n",
    "model = ChatOpenAI(temperature=0.5, model=\"gpt-4o-mini\")\n",
    "summarize_chain = ({\"element\": lambda x: x}\n",
    "                   | prompt\n",
    "                   | model\n",
    "                   | StrOutputParser()\n",
    "                   )"
   ],
   "id": "5170891dbc38ff9e",
   "outputs": [],
   "execution_count": 27
  },
  {
   "metadata": {
    "ExecuteTime": {
     "end_time": "2025-08-08T12:25:09.700438Z",
     "start_time": "2025-08-08T12:25:09.696938Z"
    }
   },
   "cell_type": "code",
   "source": "print(texts[0])",
   "id": "6c4f495c297e6ccd",
   "outputs": [
    {
     "name": "stdout",
     "output_type": "stream",
     "text": [
      "3\n",
      "\n",
      "2023\n",
      "\n",
      "2\n",
      "\n",
      "0\n",
      "\n",
      "2\n",
      "\n",
      "g u A 2 ] L C . s c [ 7 v 2 6 7 3 0 . 6 0\n",
      "\n",
      "7\n",
      "\n",
      "1\n",
      "\n",
      ":\n",
      "\n",
      "v\n",
      "\n",
      "arXiv\n",
      "\n",
      "i\n",
      "\n",
      "X\n",
      "\n",
      "r\n",
      "\n",
      "a\n",
      "\n",
      "Provided proper attribution is provided, Google hereby grants permission to reproduce the tables and figures in this paper solely for use in journalistic or scholarly works.\n",
      "\n",
      "Attention Is All You Need\n",
      "\n",
      "Ashish Vaswani∗\n",
      "\n",
      "Google Brain\n",
      "\n",
      "avaswani@google.com\n",
      "\n",
      "Noam Shazeer∗ Google Brain noam@google.com\n",
      "\n",
      "Niki Parmar∗ Google Research nikip@google.com\n",
      "\n",
      "Jakob Uszkoreit∗\n",
      "\n",
      "Google Research usz@google.com\n",
      "\n",
      "Llion Jones∗\n",
      "\n",
      "Google Research llion@google.com\n",
      "\n",
      "Aidan N. Gomez∗ † University of Toronto aidan@cs.toronto.edu\n",
      "\n",
      "Łukasz Kaiser∗ Google Brain lukaszkaiser@google.com\n",
      "\n",
      "Illia Polosukhin∗ ‡\n",
      "\n",
      "illia.polosukhin@gmail.com\n",
      "\n",
      "Abstract\n",
      "\n",
      "The dominant sequence transduction models are based on complex recurrent or convolutional neural networks that include an encoder and a decoder. The best performing models also connect the encoder and decoder through an attention mechanism. We propose a new simple network architecture, the Transformer, based solely on attention mechanisms, dispensing with recurrence and convolutions entirely. Experiments on two machine translation tasks show these models to be superior in quality while being more parallelizable and requiring significantly less time to train. Our model achieves 28.4 BLEU on the WMT 2014 English- to-German translation task, improving over the existing best results, including ensembles, by over 2 BLEU. On the WMT 2014 English-to-French translation task, our model establishes a new single-model state-of-the-art BLEU score of 41.8 after training for 3.5 days on eight GPUs, a small fraction of the training costs of the best models from the literature. We show that the Transformer generalizes well to other tasks by applying it successfully to English constituency parsing both with large and limited training data.\n",
      "\n",
      "∗Equal contribution. Listing order is random. Jakob proposed replacing RNNs with self-attention and started the effort to evaluate this idea. Ashish, with Illia, designed and implemented the first Transformer models and has been crucially involved in every aspect of this work. Noam proposed scaled dot-product attention, multi-head attention and the parameter-free position representation and became the other person involved in nearly every detail. Niki designed, implemented, tuned and evaluated countless model variants in our original codebase and tensor2tensor. Llion also experimented with novel model variants, was responsible for our initial codebase, and efficient inference and visualizations. Lukasz and Aidan spent countless long days designing various parts of and implementing tensor2tensor, replacing our earlier codebase, greatly improving results and massively accelerating our research.\n",
      "\n",
      "†Work performed while at Google Brain.\n",
      "\n",
      "‡Work performed while at Google Research.\n",
      "\n",
      "31st Conference on Neural Information Processing Systems (NIPS 2017), Long Beach, CA, USA.\n"
     ]
    }
   ],
   "execution_count": 28
  },
  {
   "metadata": {
    "ExecuteTime": {
     "end_time": "2025-08-08T12:25:27.177109Z",
     "start_time": "2025-08-08T12:25:27.172524Z"
    }
   },
   "cell_type": "code",
   "source": [
    "#tables[0].to_dict()\n",
    "tables"
   ],
   "id": "a807fc53e30845ce",
   "outputs": [
    {
     "data": {
      "text/plain": [
       "[]"
      ]
     },
     "execution_count": 29,
     "metadata": {},
     "output_type": "execute_result"
    }
   ],
   "execution_count": 29
  },
  {
   "metadata": {
    "ExecuteTime": {
     "end_time": "2025-08-08T12:26:20.034483Z",
     "start_time": "2025-08-08T12:26:07.207455Z"
    }
   },
   "cell_type": "code",
   "source": [
    "# Summarize text\n",
    "text_summaries = summarize_chain.batch(texts, {\"max_concurrency\": 3})\n",
    "\n",
    "# Summarize tables\n",
    "tables_html = [table.metadata.text_as_html for table in tables]\n",
    "table_summaries = summarize_chain.batch(tables_html, {\"max_concurrency\": 3})"
   ],
   "id": "19c03024af96ce13",
   "outputs": [],
   "execution_count": 31
  },
  {
   "metadata": {
    "ExecuteTime": {
     "end_time": "2025-08-08T12:26:36.827900Z",
     "start_time": "2025-08-08T12:26:36.821415Z"
    }
   },
   "cell_type": "code",
   "source": "text_summaries",
   "id": "3b874c546ece8e5e",
   "outputs": [
    {
     "data": {
      "text/plain": [
       "['The paper presents the Transformer, a novel neural network architecture that relies solely on attention mechanisms, eliminating the need for recurrence and convolutions. This approach outperforms traditional sequence transduction models in machine translation tasks, achieving a BLEU score of 28.4 for English-to-German and 41.8 for English-to-French translations, significantly improving upon previous best results. The Transformer is also noted for its parallelizability and reduced training time, demonstrating strong generalization to other tasks like English constituency parsing. The authors include researchers from Google Brain and Google Research, with equal contributions noted.',\n",
       " 'Recurrent neural networks, particularly long short-term memory and gated recurrent networks, are established methods for sequence modeling and transduction tasks like language modeling and machine translation. Their sequential nature limits parallelization, especially with longer sequences, though recent advancements have improved computational efficiency. Attention mechanisms enhance modeling dependencies across sequences but are often used with recurrent networks. The Transformer model proposes a novel architecture that relies solely on attention mechanisms, allowing for greater parallelization and achieving state-of-the-art translation quality in shorter training times. Other models like Extended Neural GPU and ConvS2S also aim to reduce sequential computation but face challenges in learning dependencies over distant positions. The Transformer uniquely employs self-attention without RNNs or convolutions, marking a significant advancement in transduction models.',\n",
       " \"The model architecture described is based on an encoder-decoder structure commonly used in neural sequence transduction. The encoder transforms an input sequence into continuous representations, while the decoder generates an output sequence in an auto-regressive manner. The Transformer architecture features stacked self-attention and fully connected layers in both the encoder and decoder. The encoder consists of 6 identical layers with multi-head self-attention and feed-forward networks, utilizing residual connections and layer normalization. The decoder also has 6 layers, adding a third sub-layer for multi-head attention over the encoder's output and incorporating masking to ensure predictions depend only on prior outputs. Both components produce outputs of dimension 512.\",\n",
       " 'The section describes an attention function that maps queries and key-value pairs to an output through a weighted sum of values, with weights derived from a compatibility function. The \"Scaled Dot-Product Attention\" is introduced, where queries, keys, and values are processed as matrices. The attention output is computed using a softmax function applied to the dot products of queries and keys, scaled by the square root of the key dimension. It contrasts two attention types: additive and dot-product attention, noting that dot-product attention is faster and more efficient, especially for larger dimensions, despite additive attention performing better without scaling in those cases.',\n",
       " 'Multi-head attention enhances the attention mechanism by using multiple learned linear projections of queries, keys, and values, allowing the model to focus on different representation subspaces simultaneously. The output of these projections is concatenated and projected again to form the final output. The Transformer model employs multi-head attention in three ways: encoder-decoder attention, self-attention in the encoder, and self-attention in the decoder, with mechanisms in place to prevent leftward information flow in the decoder. The model typically uses 8 parallel attention heads, each with reduced dimensions to maintain computational efficiency.',\n",
       " 'The encoder and decoder layers in the model include position-wise feed-forward networks (FFNs) with two linear transformations and a ReLU activation. The input and output dimensions are 512, while the inner layer has a dimension of 2048. Learned embeddings convert input and output tokens into vectors of dimension 512, sharing weights between embedding layers and the pre-softmax transformation. Positional encodings, using sine and cosine functions, are added to input embeddings to incorporate sequence order, allowing the model to learn relative positions effectively. Both sinusoidal and learned positional embeddings were tested, yielding similar results, but the sinusoidal version was preferred for its potential to generalize to longer sequences. Table 1 outlines the complexity and operations of different layer types, highlighting self-attention, recurrent, and convolutional layers.',\n",
       " 'Self-attention layers are compared to recurrent and convolutional layers in terms of computational complexity, parallelization, and the ability to learn long-range dependencies in sequence transduction tasks. Self-attention connects all positions with a constant number of operations, while recurrent layers require O(n) operations, making self-attention faster for shorter sequences. Convolutional layers, depending on their configuration, can increase path lengths and computational costs. Separable convolutions reduce complexity but still match the cost of self-attention combined with a feed-forward layer. Additionally, self-attention may lead to more interpretable models, with attention heads learning distinct tasks related to sentence structure.',\n",
       " 'The training regime for the models involved using the WMT 2014 English-German dataset with 4.5 million sentence pairs and the larger English-French dataset with 36 million sentence pairs. The models were trained on 8 NVIDIA P100 GPUs, with base models taking 0.4 seconds per training step over 100,000 steps, while big models took 1.0 seconds over 300,000 steps. The Adam optimizer was used with a variable learning rate and regularization techniques including residual dropout and label smoothing. The Transformer model achieved superior BLEU scores compared to previous models at a lower training cost.',\n",
       " 'The big transformer model significantly outperforms previous models in English-to-German and English-to-French translation tasks, achieving BLEU scores of 28.4 and 41.0 respectively, while also reducing training costs. Variations in the model architecture were tested, showing that while increasing model size generally improves performance, adjustments to attention heads and key dimensions can negatively impact quality. The experiments also confirmed the importance of dropout in preventing overfitting and highlighted that learned positional embeddings yield similar results to sinusoidal encodings.',\n",
       " 'The experiments on English constituency parsing demonstrate that a 4-layer Transformer model can generalize effectively to this task. Trained on the Wall Street Journal (WSJ) portion of the Penn Treebank with 40K sentences, and in a semi-supervised setting with approximately 17M sentences, the Transformer achieved competitive F1 scores. In the WSJ only setting, it scored 91.3, while in the semi-supervised setting, it reached 92.7, outperforming many previous models except for one RNN-based approach. The results indicate that the Transformer can handle the structural constraints and longer outputs typical of constituency parsing, surpassing RNN models even with limited data.',\n",
       " \"The paper introduces the Transformer model, a novel sequence transduction architecture that relies solely on attention mechanisms, eliminating the need for recurrent layers. It demonstrates superior training speed and achieves state-of-the-art results in English-to-German and English-to-French translation tasks. Future work will explore applying attention-based models to diverse tasks beyond text, including images and audio, and aims to improve efficiency in handling large inputs. The model's code is publicly available. Acknowledgments are given to contributors for their insights.\",\n",
       " \"The text includes references to various research papers related to neural networks, machine translation, and parsing techniques. It highlights attention mechanisms in neural networks, specifically focusing on how different attention heads in a model's layer attend to various aspects of language, such as long-distance dependencies and anaphora resolution. Figures illustrate examples of attention visualizations, showing the behavior of attention heads in processing language structure.\"]"
      ]
     },
     "execution_count": 33,
     "metadata": {},
     "output_type": "execute_result"
    }
   ],
   "execution_count": 33
  },
  {
   "metadata": {
    "ExecuteTime": {
     "end_time": "2025-08-08T12:27:26.341824Z",
     "start_time": "2025-08-08T12:27:26.336986Z"
    }
   },
   "cell_type": "code",
   "source": "table_summaries",
   "id": "dcb4e2248125fe29",
   "outputs": [
    {
     "data": {
      "text/plain": [
       "[]"
      ]
     },
     "execution_count": 35,
     "metadata": {},
     "output_type": "execute_result"
    }
   ],
   "execution_count": 35
  },
  {
   "metadata": {},
   "cell_type": "markdown",
   "source": [
    "### Image summaries\n",
    "use gpt-4o-mini to produce the image summaries."
   ],
   "id": "a10a3eccffe0e2a0"
  },
  {
   "metadata": {
    "ExecuteTime": {
     "end_time": "2025-08-08T12:26:59.455786Z",
     "start_time": "2025-08-08T12:26:47.812845Z"
    }
   },
   "cell_type": "code",
   "source": [
    "from langchain_openai import ChatOpenAI\n",
    "\n",
    "prompt_template = \"\"\"Describe the image in detail. For context,\n",
    "                  the image is part of a research paper explaining the transformers\n",
    "                  architecture. Be specific about graphs, such as bar plots.\"\"\"\n",
    "messages = [\n",
    "    (\n",
    "        \"user\",\n",
    "        [\n",
    "            {\"type\": \"text\", \"text\": prompt_template},\n",
    "            {\n",
    "                \"type\": \"image_url\",\n",
    "                \"image_url\": {\"url\": \"data:image/jpeg;base64,{image}\"},\n",
    "            },\n",
    "        ],\n",
    "    )\n",
    "]\n",
    "\n",
    "prompt = ChatPromptTemplate.from_messages(messages)\n",
    "\n",
    "chain = (prompt\n",
    "         | ChatOpenAI(model=\"gpt-4o-mini\")\n",
    "         | StrOutputParser())\n",
    "\n",
    "\n",
    "image_summaries = chain.batch(images)"
   ],
   "id": "2f971926c5944698",
   "outputs": [],
   "execution_count": 34
  },
  {
   "metadata": {
    "ExecuteTime": {
     "end_time": "2025-08-08T12:27:34.191778Z",
     "start_time": "2025-08-08T12:27:34.184775Z"
    }
   },
   "cell_type": "code",
   "outputs": [
    {
     "data": {
      "text/plain": [
       "['The image depicts a block diagram illustrating the architecture of transformers, commonly used in natural language processing.\\n\\n### Structure Overview:\\n1. **Input Layer**:\\n   - At the bottom, labeled \"Inputs\", representing the initial data entering the network.\\n   - Includes \"Input Embedding\", which transforms the raw inputs into a more suitable format for processing.\\n   - \"Positional Encoding\" is connected to the input embedding to inject information about the position of tokens within the input sequence.\\n\\n2. **Encoder Stack**:\\n   - Two main blocks represent the encoder layers, labeled as \"Nx\".\\n   - Each encoder block has several components:\\n     - **Multi-Head Attention**:\\n       - This section allows the model to focus on different parts of the input sequence simultaneously.\\n       - An \"Add & Norm\" layer follows to stabilize the training by normalizing the outputs.\\n     - **Feed Forward**:\\n       - A fully connected feed-forward neural network that processes the data further.\\n       - Another \"Add & Norm\" layer follows.\\n   - The encoder blocks are connected in series, demonstrating that the output of one layer feeds into the next.\\n\\n3. **Decoder Stack**:\\n   - To the right of the encoder, another set of blocks (also labeled \"Nx\") represents the decoder layers.\\n   - Similar to the encoder, but includes \"Masked Multi-Head Attention\" which ensures that predictions for a certain position can only depend on known outputs.\\n   - The structure is nearly identical to the encoder with additional mechanisms for handling outputs in a sequential manner.\\n\\n4. **Output Layer**:\\n   - At the top, labeled \"Output Probabilities\", which refers to the final predictions made by the model.\\n   - It includes components:\\n     - **Linear**: A linear transformation applied to the outputs to prepare for probability distribution.\\n     - **Softmax**: Converts the final outputs into probabilities across possible classes.\\n\\n### Connections:\\n- Throughout the diagram, connections between the layers indicate the flow of information, enhanced by various normalization and attention mechanisms.\\n- Arrows specify the direction of data movement, showing how inputs traverse through the transformer layers.\\n\\nOverall, the diagram serves as a detailed representation of the core elements and flow within the transformer architecture, focusing on both the encoder and decoder components.',\n",
       " 'The image appears to be a diagrammatic representation of the attention mechanism within the transformer architecture, specifically focusing on the operations involved.\\n\\n### Components and Structure\\n\\n1. **Nodes and Operations:**\\n   - The diagram contains several labeled boxes that represent distinct operations. The boxes are connected by arrows indicating the flow of data.\\n   - **MatMul:** This operation is represented in purple boxes at the top and bottom of the diagram, indicating matrix multiplication.\\n   - **SoftMax:** This is depicted in a green box and represents the softmax function, which is often used to convert scores into probabilities.\\n   - **Mask (opt.):** Shown in a pink box, this optional masking operation can suppress certain parts of the input to maintain attention only on the relevant positions.\\n   - **Scale:** A yellow box that likely represents the scaling of the scores before the softmax operation.\\n\\n2. **Input and Output:**\\n   - Arrows indicate that inputs Q (Query), K (Key), and V (Value) feed into the operations, most notably into the bottom MatMul.\\n   - The output of the top MatMul likely feeds into further parts of the transformer model.\\n\\n### Flow of Operations\\n\\n- The flow starts with the inputs Q and K feeding into the first MatMul operation.\\n- The scaled result is passed to the SoftMax function, which applies the softmax transformation to produce the attention scores.\\n- The optional masking step can occur before applying the softmax to ignore certain values.\\n- Finally, the output from the SoftMax is likely used in conjunction with the Value (V) matrix in the subsequent operations.\\n\\n### Visual Style\\n\\n- The boxes are color-coded, which helps differentiate the types of operations in the process.\\n- The use of arrows implies sequence and dependency, clearly showing how data progresses through the different steps.\\n\\nThis diagram effectively summarizes the key components of the attention mechanism in transformer architecture, highlighting how queries, keys, and values interact during the attention calculation.',\n",
       " \"The image illustrates a component of the transformer architecture, focusing on the scaled dot-product attention mechanism. Here's a detailed description:\\n\\n1. **Overall Structure**: The diagram is primarily flow-based, showing the flow of data through different operations. It includes several boxes and arrows indicating the transformation processes.\\n\\n2. **Input Components**:\\n   - At the bottom of the diagram, there are three branches labeled **V**, **K**, and **Q**. These represent the value, key, and query matrices, respectively, which are fundamental to the attention mechanism.\\n\\n3. **Linear Transformations**:\\n   - Each of the three branches (V, K, Q) includes a box labeled **Linear**. This indicates that a linear transformation is applied to each of the value, key, and query inputs. \\n\\n4. **Attention Mechanism**:\\n   - Above the linear transformations, there is a larger box labeled **Scaled Dot-Product Attention**. This is the central part of the diagram where the dot-product attention calculations take place.\\n\\n5. **Concatenation**:\\n   - Above the attention mechanism, there is a box labeled **Concat**. This suggests that the outputs from various attention components are concatenated, which is a common step in transformer architectures to combine multiple attention heads or outputs.\\n\\n6. **Output**:\\n   - From the **Concat** box, arrows point both upward and downward, indicating that the data is channeled both to the next layer in the model and possibly back to other components.\\n\\n7. **Labeling**:\\n   - There's a label (h) connected to the attention box, which could represent the output or hidden state produced by the attention mechanism.\\n\\nThe design employs a clean, schematic style, using labeled boxes and directional arrows to clarify the data flow and interactions between various components of the transformer architecture.\",\n",
       " 'The image appears to illustrate a part of a research paper discussing the transformer architecture\\'s mechanism, particularly focusing on attention mechanisms.\\n\\n### Layout and Structure\\n- **Central Column**: A vertical column in the center features the term \"2009\" in a gray box, likely indicating a significant token in the input sequence.\\n- **Left and Right Text Strings**: Various words, primarily in smaller font, are displayed on the left and right of the central box. These words seem to be tokens from a textual input, forming a coherent phrase or sentence related to voting processes.\\n\\n### Text Tokens\\n- **Left Side**: Words such as “It,” “is,” “in,” “this,” “spirit,” “that,” syntax elements indicating subjects or contextual details. This suggests an exploratory text leading up to the main focus.\\n- **Right Side**: Contains expressions like “making,” “the,” “registration,” “or,” “voting,” “process,” “more,” “difficult.” This part likely references the key themes or elements tied to the central token.\\n\\n### Attention Lines\\n- **Colored Lines**: There are lines extending from the central box (2009) to various other words. These lines are color-coded and vary in thickness, indicating different levels of attention or importance given to each word in relation to \"2009.\"\\n  - **Thicker Lines**: Indicate stronger relationships or significant attention.\\n  - **Thinner Lines**: Suggest lesser importance or connection.\\n\\n### Additional Elements\\n- **Special Tokens**: At the two ends, special tokens like `<EOS>` and `<pad>` are present. `<EOS>` signifies the end of a sequence, while `<pad>` indicates padding tokens used to align input sequences in terms of length.\\n\\n### Overall Interpretation\\nThe image likely serves to illustrate how the transformer architecture assigns attention weights to input tokens in order to understand relationships within the data, fundamentally a key principle for tasks such as natural language processing or predictive text generation.',\n",
       " 'The image appears to illustrate the attention mechanism of a transformer model. It features a series of words arranged in a linear progression, possibly representing a sentence or sequence of tokens. \\n\\n1. **Tokens**: Each word is represented as a label (e.g., \"The,\" \"Law,\" \"will,\" etc.), displayed in a vertical alignment across several layers.\\n\\n2. **Connections**: Thin lines, predominantly in shades of purple, connect the tokens. These lines illustrate the attention weights, indicating which words attend to or influence others within the sequence.\\n\\n3. **Note on structure**: The two central tokens, \"but\" and \"its,\" appear to be focal points, with more pronounced connections emanating from them. This likely indicates their significance in influencing surrounding tokens.\\n\\n4. **Additional markers**: Towards the right, special tokens such as `<EOS>` (End of Sentence) and `<pad>` (Padding) are included, showing how they are incorporated in the architecture, likely for sequence termination and alignment.\\n\\nOverall, the image serves as a visual representation of how words in a sequence interact within the transformer architecture, showcasing the complexity of relationships established through attention.',\n",
       " 'The image presents a graphical representation of attention relationships within a transformer architecture, specifically illustrating how different words in a sequence relate to each other based on their attention scores.\\n\\n### Description:\\n\\n1. **Word Nodes**:\\n   - The words from a sentence are displayed in two rows, with several nodes positioned at the top and bottom sections. The words include \"The,\" \"Law,\" \"will,\" \"never,\" \"be,\" \"perfect,\" \"its,\" \"application,\" \"should,\" \"be,\" \"just,\" \"this,\" \"is,\" \"what,\" \"we,\" \"are,\" \"missing,\" \"in,\" \"my,\" \"opinion,\" along with special tokens \"<EOS>\" (end of sequence) and \"<pad>\" (padding token).\\n  \\n2. **Connections**:\\n   - The visual features numerous lines connecting these word nodes. The thickness and opacity of the lines vary, indicating different levels of attention scores. The thicker and darker green lines suggest stronger attention between words, while lighter, thinner lines depict weaker connections.\\n   - The arrows connect words from one side to another, showing which words in the sequence pay more attention to others during processing.\\n\\n3. **Spatial Arrangement**:\\n   - The words are organized horizontally, creating two clear sections. The connections cross between these sections, highlighting which words influence each other. For example, there may be significant attention from \"application\" to \"should\" or from \"this\" to \"missing,\" suggesting the contextual relationships in the transformer model’s attention mechanism.\\n\\n4. **Color Scheme**:\\n   - The overall color palette is dominated by shades of green, emphasizing the positive nature of the attention scores. Dark green indicates strong associations, enhancing the interpretability of the graph.\\n\\nThis visualization is essential for understanding the inner workings of transformers, as it highlights how each token in a sequence informs the attention mechanism, crucial for tasks such as natural language processing.',\n",
       " 'The image illustrates a sequence of words related to a sentence, with connections indicating relationships between those words. The words are arranged horizontally, representing a text input, and are linked by lines that vary in thickness and color.\\n\\n### Key Features of the Image:\\n\\n1. **Word Arrangement**: \\n   - The words are positioned in a single horizontal line, with each word appearing clearly and legibly.\\n   - They include common English words and might represent a sentence or phrase relevant to the discussion of transformer architecture.\\n\\n2. **Lines and Connections**:\\n   - Lines connect various words across the sequence. The thickness of these lines varies, with some being bold and others thin. This likely indicates the strength or significance of the relationship between the words they connect.\\n   - The color of the lines transitions from a darker red to a lighter shade, suggesting a gradient that might represent different degrees of attention or relevance.\\n\\n3. **Structural Elements**:\\n   - At the end of the sequence, there are special tokens like `<EOS>` (end of sequence) and `<pad>` (padding), which are typical in models that process sequences, especially in transformers.\\n\\n4. **Visual Emphasis**:\\n   - The overall design emphasizes connectivity and relationships, crucial aspects of the transformer architecture which focuses on how different elements in a sequence relate to one another through attention mechanisms.\\n\\nThis image would be useful in a research paper to visually represent the attention mechanism of transformers, illustrating how the model evaluates and prioritizes different words in an input sequence during processing.']"
      ]
     },
     "execution_count": 36,
     "metadata": {},
     "output_type": "execute_result"
    }
   ],
   "execution_count": 36,
   "source": "image_summaries",
   "id": "c5997863455ea2fb"
  },
  {
   "metadata": {
    "ExecuteTime": {
     "end_time": "2025-08-08T12:28:11.614629Z",
     "start_time": "2025-08-08T12:28:11.610616Z"
    }
   },
   "cell_type": "code",
   "outputs": [
    {
     "name": "stdout",
     "output_type": "stream",
     "text": [
      "The image appears to be a diagrammatic representation of the attention mechanism within the transformer architecture, specifically focusing on the operations involved.\n",
      "\n",
      "### Components and Structure\n",
      "\n",
      "1. **Nodes and Operations:**\n",
      "   - The diagram contains several labeled boxes that represent distinct operations. The boxes are connected by arrows indicating the flow of data.\n",
      "   - **MatMul:** This operation is represented in purple boxes at the top and bottom of the diagram, indicating matrix multiplication.\n",
      "   - **SoftMax:** This is depicted in a green box and represents the softmax function, which is often used to convert scores into probabilities.\n",
      "   - **Mask (opt.):** Shown in a pink box, this optional masking operation can suppress certain parts of the input to maintain attention only on the relevant positions.\n",
      "   - **Scale:** A yellow box that likely represents the scaling of the scores before the softmax operation.\n",
      "\n",
      "2. **Input and Output:**\n",
      "   - Arrows indicate that inputs Q (Query), K (Key), and V (Value) feed into the operations, most notably into the bottom MatMul.\n",
      "   - The output of the top MatMul likely feeds into further parts of the transformer model.\n",
      "\n",
      "### Flow of Operations\n",
      "\n",
      "- The flow starts with the inputs Q and K feeding into the first MatMul operation.\n",
      "- The scaled result is passed to the SoftMax function, which applies the softmax transformation to produce the attention scores.\n",
      "- The optional masking step can occur before applying the softmax to ignore certain values.\n",
      "- Finally, the output from the SoftMax is likely used in conjunction with the Value (V) matrix in the subsequent operations.\n",
      "\n",
      "### Visual Style\n",
      "\n",
      "- The boxes are color-coded, which helps differentiate the types of operations in the process.\n",
      "- The use of arrows implies sequence and dependency, clearly showing how data progresses through the different steps.\n",
      "\n",
      "This diagram effectively summarizes the key components of the attention mechanism in transformer architecture, highlighting how queries, keys, and values interact during the attention calculation.\n"
     ]
    }
   ],
   "execution_count": 37,
   "source": "print(image_summaries[1])",
   "id": "20c674711bc21c45"
  },
  {
   "metadata": {
    "ExecuteTime": {
     "end_time": "2025-08-08T12:33:46.108251Z",
     "start_time": "2025-08-08T12:33:46.103148Z"
    }
   },
   "cell_type": "code",
   "source": "display_base64_image(images[1])",
   "id": "49e3500c6ba4c136",
   "outputs": [
    {
     "data": {
      "image/jpeg": "[encoded data removed]",
      "text/plain": [
       "<IPython.core.display.Image object>"
      ]
     },
     "metadata": {},
     "output_type": "display_data"
    }
   ],
   "execution_count": 40
  },
  {
   "metadata": {
    "ExecuteTime": {
     "end_time": "2025-08-08T12:31:54.057583Z",
     "start_time": "2025-08-08T12:31:54.052961Z"
    }
   },
   "cell_type": "code",
   "outputs": [
    {
     "data": {
      "text/plain": [
       "7"
      ]
     },
     "execution_count": 38,
     "metadata": {},
     "output_type": "execute_result"
    }
   ],
   "execution_count": 38,
   "source": "len(image_summaries)",
   "id": "d72a155aef0bc12c"
  },
  {
   "metadata": {},
   "cell_type": "markdown",
   "source": "## Load data and summaries to vectorstore",
   "id": "bbce99578075efdb"
  },
  {
   "metadata": {},
   "cell_type": "markdown",
   "source": "### Create the vectorstore",
   "id": "ed18852f5997cb40"
  },
  {
   "metadata": {
    "ExecuteTime": {
     "end_time": "2025-08-08T12:47:10.031177Z",
     "start_time": "2025-08-08T12:47:09.344699Z"
    }
   },
   "cell_type": "code",
   "source": [
    "import uuid\n",
    "from langchain.vectorstores import Chroma\n",
    "from langchain.storage import InMemoryStore\n",
    "from langchain_core.documents import Document\n",
    "from langchain_openai import OpenAIEmbeddings\n",
    "from langchain.retrievers.multi_vector import MultiVectorRetriever\n",
    "\n",
    "# The vectorstore to use to index the child chunks\n",
    "vectorstore = Chroma(collection_name=\"multi_modal_rag\", embedding_function=OpenAIEmbeddings())\n",
    "\n",
    "# The storage layer for the parent documents\n",
    "store = InMemoryStore()\n",
    "id_key = \"doc_id\"\n",
    "\n",
    "# The retriever (empty to start)\n",
    "retriever = MultiVectorRetriever(\n",
    "    vectorstore=vectorstore,\n",
    "    docstore=store,\n",
    "    id_key=id_key,\n",
    ")"
   ],
   "id": "14a5fd3225019327",
   "outputs": [],
   "execution_count": 42
  },
  {
   "metadata": {},
   "cell_type": "markdown",
   "source": "### Load the summaries and link the to the original data",
   "id": "7cfb8045d14c9509"
  },
  {
   "metadata": {
    "ExecuteTime": {
     "end_time": "2025-08-08T12:49:57.090911Z",
     "start_time": "2025-08-08T12:49:55.758197Z"
    }
   },
   "cell_type": "code",
   "source": [
    "# Add texts\n",
    "doc_ids = [str(uuid.uuid4()) for _ in texts]\n",
    "summary_texts = [\n",
    "    Document(page_content=summary, metadata={id_key: doc_ids[i]}) for i, summary in enumerate(text_summaries)\n",
    "]\n",
    "retriever.vectorstore.add_documents(summary_texts)\n",
    "retriever.docstore.mset(list(zip(doc_ids, texts)))\n",
    "\n",
    "# Add tables\n",
    "#table_ids = [str(uuid.uuid4()) for _ in tables]\n",
    "#summary_tables = [\n",
    "    #Document(page_content=summary, metadata={id_key: table_ids[i]}) for i, summary in enumerate(table_summaries)\n",
    "#]\n",
    "#retriever.vectorstore.add_documents(summary_tables)\n",
    "#retriever.docstore.mset(list(zip(table_ids, tables)))\n",
    "\n",
    "# Add image summaries\n",
    "img_ids = [str(uuid.uuid4()) for _ in images]\n",
    "summary_img = [\n",
    "    Document(page_content=summary, metadata={id_key: img_ids[i]}) for i, summary in enumerate(image_summaries)\n",
    "]\n",
    "retriever.vectorstore.add_documents(summary_img)\n",
    "retriever.docstore.mset(list(zip(img_ids, images)))"
   ],
   "id": "4af8fe9e9b2ae2a",
   "outputs": [],
   "execution_count": 44
  },
  {
   "metadata": {},
   "cell_type": "markdown",
   "source": "### Check retrieval",
   "id": "3f6b4adde58f77c6"
  },
  {
   "metadata": {
    "ExecuteTime": {
     "end_time": "2025-08-08T12:53:44.751372Z",
     "start_time": "2025-08-08T12:53:44.305128Z"
    }
   },
   "cell_type": "code",
   "source": [
    "# Retrieve\n",
    "chunks = retriever.invoke(\n",
    "    \"what is multihead attention?\"\n",
    ")"
   ],
   "id": "8a4eae32f803cab5",
   "outputs": [],
   "execution_count": 47
  },
  {
   "metadata": {
    "ExecuteTime": {
     "end_time": "2025-08-08T12:54:14.076121Z",
     "start_time": "2025-08-08T12:54:14.071826Z"
    }
   },
   "cell_type": "code",
   "source": "chunks",
   "id": "ebec3b046aeaffc7",
   "outputs": [
    {
     "data": {
      "text/plain": [
       "[<unstructured.documents.elements.CompositeElement at 0x177585b89b0>,\n",
       " <unstructured.documents.elements.CompositeElement at 0x1775862e450>,\n",
       " <unstructured.documents.elements.CompositeElement at 0x1775862ce30>,\n",
       " <unstructured.documents.elements.CompositeElement at 0x1775862f6b0>,\n",
       " <unstructured.documents.elements.CompositeElement at 0x1775862caa0>,\n",
       " <unstructured.documents.elements.CompositeElement at 0x1775862dbb0>,\n",
       " <unstructured.documents.elements.CompositeElement at 0x1775862e480>,\n",
       " <unstructured.documents.elements.CompositeElement at 0x1775862e840>,\n",
       " <unstructured.documents.elements.CompositeElement at 0x1775862e720>,\n",
       " <unstructured.documents.elements.CompositeElement at 0x1775862f500>,\n",
       " <unstructured.documents.elements.CompositeElement at 0x1775862e510>,\n",
       " <unstructured.documents.elements.CompositeElement at 0x177554bce60>]"
      ]
     },
     "execution_count": 48,
     "metadata": {},
     "output_type": "execute_result"
    }
   ],
   "execution_count": 48
  },
  {
   "metadata": {
    "ExecuteTime": {
     "end_time": "2025-08-08T13:04:17.234456Z",
     "start_time": "2025-08-08T13:04:17.212144Z"
    }
   },
   "cell_type": "code",
   "source": [
    "#since we are using chunking, we get chunks of related documents\n",
    "#since we selected \"by_title\" as the chunking strategy, we get sections of the documents based on their title\n",
    "for i, chunk in enumerate(chunks):\n",
    "    if \"CompositeElement\" in str(type(chunk)):\n",
    "        print(\"\\n\\nChunk\",i)\n",
    "        for doc in chunk.metadata.orig_elements:\n",
    "            print(doc.to_dict()[\"type\"], doc.metadata.page_number)\n",
    "\n"
   ],
   "id": "637ab8f6c4185774",
   "outputs": [
    {
     "name": "stdout",
     "output_type": "stream",
     "text": [
      "\n",
      "\n",
      "Chunk 0\n",
      "UncategorizedText 1\n",
      "UncategorizedText 1\n",
      "UncategorizedText 1\n",
      "UncategorizedText 1\n",
      "UncategorizedText 1\n",
      "Header 1\n",
      "UncategorizedText 1\n",
      "UncategorizedText 1\n",
      "UncategorizedText 1\n",
      "UncategorizedText 1\n",
      "UncategorizedText 1\n",
      "UncategorizedText 1\n",
      "UncategorizedText 1\n",
      "UncategorizedText 1\n",
      "UncategorizedText 1\n",
      "NarrativeText 1\n",
      "Title 1\n",
      "UncategorizedText 1\n",
      "UncategorizedText 1\n",
      "UncategorizedText 1\n",
      "NarrativeText 1\n",
      "NarrativeText 1\n",
      "UncategorizedText 1\n",
      "NarrativeText 1\n",
      "UncategorizedText 1\n",
      "NarrativeText 1\n",
      "NarrativeText 1\n",
      "NarrativeText 1\n",
      "Title 1\n",
      "NarrativeText 1\n",
      "Title 1\n",
      "NarrativeText 1\n",
      "NarrativeText 1\n",
      "UncategorizedText 1\n",
      "UncategorizedText 1\n",
      "NarrativeText 1\n",
      "\n",
      "\n",
      "Chunk 1\n",
      "Title 2\n",
      "NarrativeText 2\n",
      "NarrativeText 2\n",
      "NarrativeText 2\n",
      "NarrativeText 2\n",
      "Title 2\n",
      "NarrativeText 2\n",
      "NarrativeText 2\n",
      "NarrativeText 2\n",
      "NarrativeText 2\n",
      "\n",
      "\n",
      "Chunk 2\n",
      "Title 2\n",
      "NarrativeText 2\n",
      "Footer 2\n",
      "Image 3\n",
      "FigureCaption 3\n",
      "NarrativeText 3\n",
      "Title 3\n",
      "NarrativeText 3\n",
      "NarrativeText 3\n",
      "\n",
      "\n",
      "Chunk 3\n",
      "Title 3\n",
      "NarrativeText 3\n",
      "Footer 3\n",
      "UncategorizedText 4\n",
      "UncategorizedText 4\n",
      "Image 4\n",
      "Image 4\n",
      "NarrativeText 4\n",
      "NarrativeText 4\n",
      "Title 4\n",
      "NarrativeText 4\n",
      "NarrativeText 4\n",
      "Formula 4\n",
      "NarrativeText 4\n",
      "NarrativeText 4\n",
      "\n",
      "\n",
      "Chunk 4\n",
      "Title 4\n",
      "NarrativeText 4\n",
      "NarrativeText 4\n",
      "UncategorizedText 4\n",
      "NarrativeText 5\n",
      "NarrativeText 5\n",
      "Formula 5\n",
      "NarrativeText 5\n",
      "NarrativeText 5\n",
      "Title 5\n",
      "NarrativeText 5\n",
      "ListItem 5\n",
      "ListItem 5\n",
      "ListItem 5\n",
      "\n",
      "\n",
      "Chunk 5\n",
      "Title 5\n",
      "NarrativeText 5\n",
      "Formula 5\n",
      "NarrativeText 5\n",
      "Title 5\n",
      "NarrativeText 5\n",
      "Footer 5\n",
      "NarrativeText 6\n",
      "Table 6\n",
      "Title 6\n",
      "NarrativeText 6\n",
      "NarrativeText 6\n",
      "Formula 6\n",
      "NarrativeText 6\n",
      "NarrativeText 6\n",
      "\n",
      "\n",
      "Chunk 6\n",
      "Title 6\n",
      "NarrativeText 6\n",
      "NarrativeText 6\n",
      "NarrativeText 6\n",
      "NarrativeText 6\n",
      "UncategorizedText 6\n",
      "NarrativeText 7\n",
      "NarrativeText 7\n",
      "NarrativeText 7\n",
      "\n",
      "\n",
      "Chunk 7\n",
      "Title 7\n",
      "NarrativeText 7\n",
      "Title 7\n",
      "NarrativeText 7\n",
      "Title 7\n",
      "NarrativeText 7\n",
      "Title 7\n",
      "NarrativeText 7\n",
      "Formula 7\n",
      "NarrativeText 7\n",
      "Title 7\n",
      "NarrativeText 7\n",
      "Footer 7\n",
      "FigureCaption 8\n",
      "Table 8\n",
      "NarrativeText 8\n",
      "NarrativeText 8\n",
      "\n",
      "\n",
      "Chunk 8\n",
      "Title 8\n",
      "Title 8\n",
      "NarrativeText 8\n",
      "NarrativeText 8\n",
      "NarrativeText 8\n",
      "NarrativeText 8\n",
      "Title 8\n",
      "NarrativeText 8\n",
      "UncategorizedText 8\n",
      "Footer 8\n",
      "NarrativeText 9\n",
      "Table 9\n",
      "UncategorizedText 9\n",
      "UncategorizedText 9\n",
      "UncategorizedText 9\n",
      "UncategorizedText 9\n",
      "UncategorizedText 9\n",
      "UncategorizedText 9\n",
      "UncategorizedText 9\n",
      "UncategorizedText 9\n",
      "NarrativeText 9\n",
      "NarrativeText 9\n",
      "NarrativeText 9\n",
      "\n",
      "\n",
      "Chunk 9\n",
      "Title 9\n",
      "NarrativeText 9\n",
      "NarrativeText 9\n",
      "NarrativeText 9\n",
      "UncategorizedText 9\n",
      "UncategorizedText 9\n",
      "FigureCaption 10\n",
      "Table 10\n",
      "NarrativeText 10\n",
      "NarrativeText 10\n",
      "NarrativeText 10\n",
      "\n",
      "\n",
      "Chunk 10\n",
      "Title 10\n",
      "NarrativeText 10\n",
      "NarrativeText 10\n",
      "NarrativeText 10\n",
      "NarrativeText 10\n",
      "NarrativeText 10\n",
      "Title 10\n",
      "ListItem 10\n",
      "ListItem 10\n",
      "ListItem 10\n",
      "ListItem 10\n",
      "Footer 10\n",
      "ListItem 11\n",
      "ListItem 11\n",
      "ListItem 11\n",
      "ListItem 11\n",
      "ListItem 11\n",
      "ListItem 11\n",
      "ListItem 11\n",
      "ListItem 11\n",
      "ListItem 11\n",
      "ListItem 11\n",
      "ListItem 11\n",
      "ListItem 11\n",
      "ListItem 11\n",
      "ListItem 11\n",
      "ListItem 11\n",
      "ListItem 11\n",
      "ListItem 11\n",
      "ListItem 11\n",
      "ListItem 11\n",
      "ListItem 11\n",
      "Footer 11\n",
      "ListItem 12\n",
      "ListItem 12\n",
      "ListItem 12\n",
      "ListItem 12\n",
      "ListItem 12\n",
      "ListItem 12\n",
      "ListItem 12\n",
      "ListItem 12\n",
      "ListItem 12\n",
      "ListItem 12\n",
      "ListItem 12\n",
      "\n",
      "\n",
      "Chunk 11\n",
      "ListItem 12\n",
      "ListItem 12\n",
      "ListItem 12\n",
      "ListItem 12\n",
      "ListItem 12\n",
      "Footer 12\n",
      "Title 13\n",
      "Image 13\n",
      "FigureCaption 13\n",
      "Header 13\n",
      "Image 14\n",
      "NarrativeText 14\n",
      "UncategorizedText 14\n",
      "Image 15\n",
      "Image 15\n",
      "FigureCaption 15\n",
      "Header 15\n"
     ]
    }
   ],
   "execution_count": 49
  },
  {
   "metadata": {
    "ExecuteTime": {
     "end_time": "2025-08-08T13:06:25.448459Z",
     "start_time": "2025-08-08T13:06:25.442936Z"
    }
   },
   "cell_type": "code",
   "source": "chunks[0].metadata.orig_elements[0].to_dict()",
   "id": "da7b5d5096f26221",
   "outputs": [
    {
     "data": {
      "text/plain": [
       "{'type': 'UncategorizedText',\n",
       " 'element_id': 'b1fc03b7-d497-4a31-a321-e61d678854ea',\n",
       " 'text': '3',\n",
       " 'metadata': {'coordinates': {'points': ((np.float64(45.388888888888886),\n",
       "     np.float64(594.2222222222224)),\n",
       "    (np.float64(45.388888888888886), np.float64(622.0000000000002)),\n",
       "    (np.float64(100.94444444444446), np.float64(622.0000000000002)),\n",
       "    (np.float64(100.94444444444446), np.float64(594.2222222222224))),\n",
       "   'system': 'PixelSpace',\n",
       "   'layout_width': 1700,\n",
       "   'layout_height': 2200},\n",
       "  'last_modified': '2025-07-30T10:39:08',\n",
       "  'filetype': 'PPM',\n",
       "  'languages': ['eng'],\n",
       "  'page_number': 1}}"
      ]
     },
     "execution_count": 50,
     "metadata": {},
     "output_type": "execute_result"
    }
   ],
   "execution_count": 50
  },
  {
   "metadata": {},
   "cell_type": "markdown",
   "source": "## RAG pipeline",
   "id": "a2a9058df6a1f876"
  },
  {
   "metadata": {
    "ExecuteTime": {
     "end_time": "2025-08-08T14:10:10.054059Z",
     "start_time": "2025-08-08T14:10:10.025777Z"
    }
   },
   "cell_type": "code",
   "source": [
    "from langchain_core.runnables import RunnablePassthrough, RunnableLambda\n",
    "from langchain_core.messages import SystemMessage, HumanMessage\n",
    "from langchain_openai import ChatOpenAI\n",
    "from base64 import b64decode\n",
    "\n",
    "\n",
    "def parse_docs(docs):\n",
    "    \"\"\"Split base64-encoded images and texts\"\"\"\n",
    "    b64 = []\n",
    "    text = []\n",
    "    for doc in docs:\n",
    "        try:\n",
    "            b64decode(doc)\n",
    "            b64.append(doc)\n",
    "        except Exception as e:\n",
    "            text.append(doc)\n",
    "    return {\"images\": b64, \"texts\": text}\n",
    "\n",
    "\n",
    "def build_prompt(kwargs):\n",
    "\n",
    "    docs_by_type = kwargs[\"context\"]\n",
    "    user_question = kwargs[\"question\"]\n",
    "\n",
    "    context_text = \"\"\n",
    "    if len(docs_by_type[\"texts\"]) > 0:\n",
    "        for text_element in docs_by_type[\"texts\"]:\n",
    "            context_text += text_element.text\n",
    "\n",
    "    # construct prompt with context (including images)\n",
    "    prompt_template = f\"\"\"\n",
    "    Answer the question based only on the following context, which can include text, tables, and the below image.\n",
    "    Context: {context_text}\n",
    "    Question: {user_question}\n",
    "    \"\"\"\n",
    "\n",
    "    prompt_content = [{\"type\": \"text\", \"text\": prompt_template}]\n",
    "\n",
    "    if len(docs_by_type[\"images\"]) > 0:\n",
    "        for image in docs_by_type[\"images\"]:\n",
    "            prompt_content.append(\n",
    "                {\n",
    "                    \"type\": \"image_url\",\n",
    "                    \"image_url\": {\"url\": f\"data:image/jpeg;base64,{image}\"},\n",
    "                }\n",
    "            )\n",
    "\n",
    "    return ChatPromptTemplate.from_messages(\n",
    "        [\n",
    "            HumanMessage(content=prompt_content),\n",
    "        ]\n",
    "    )\n",
    "\n",
    "\n",
    "chain = (\n",
    "    {\n",
    "        \"context\": retriever | RunnableLambda(parse_docs),\n",
    "        \"question\": RunnablePassthrough(),\n",
    "    }\n",
    "    | RunnableLambda(build_prompt)\n",
    "    | ChatOpenAI(model=\"gpt-4o-mini\")\n",
    "    | StrOutputParser()\n",
    ")\n",
    "\n",
    "chain_with_sources = {\n",
    "    \"context\": retriever | RunnableLambda(parse_docs),\n",
    "    \"question\": RunnablePassthrough(),\n",
    "} | RunnablePassthrough().assign(\n",
    "    response=(\n",
    "        RunnableLambda(build_prompt)\n",
    "        | ChatOpenAI(model=\"gpt-4o-mini\")\n",
    "        | StrOutputParser()\n",
    "    )\n",
    ")"
   ],
   "id": "367765affcd6c9e7",
   "outputs": [],
   "execution_count": 53
  },
  {
   "metadata": {
    "ExecuteTime": {
     "end_time": "2025-08-08T14:10:19.367131Z",
     "start_time": "2025-08-08T14:10:12.030955Z"
    }
   },
   "cell_type": "code",
   "source": [
    "response = chain.invoke(\n",
    "    \"What is the attention mechanism?\"\n",
    ")\n",
    "\n",
    "print(response)#from texts"
   ],
   "id": "eced1f635d6e55a",
   "outputs": [
    {
     "name": "stdout",
     "output_type": "stream",
     "text": [
      "The attention mechanism is a technique used in machine learning models, particularly in natural language processing and computer vision, to allow the model to focus on specific parts of the input data when making predictions or generating outputs. It involves computing weighted representations of the input elements based on their relevance to the current context.\n",
      "\n",
      "In the context provided, the attention mechanism operates through multiple heads in a multi-head attention setup. Instead of relying on a single attention function, the model linearly projects the queries, keys, and values multiple times (h times) using different learned linear projections. This results in parallel attention operations, which enables the model to capture different aspects of the input information from various representation subspaces at different positions.\n",
      "\n",
      "The attention function creates a context for each element by considering all other elements, effectively allowing it to learn dependencies and relationships, even over long distances in the data. This is useful for tasks like machine translation, where understanding the context of words relative to each other is critical, or for tasks like parsing in which the structure of sentences is important.\n",
      "\n",
      "The model employs attention in specific formats:\n",
      "1. In \"encoder-decoder attention\" layers where queries come from the decoder and keys/values from the encoder, allowing the decoder to attend to the entire input sequence.\n",
      "2. In self-attention layers, where every position can attend to all positions from the previous layer in the same encoder.\n",
      "3. In self-attention layers of the decoder, where positions can only attend to the current and previous positions to maintain an auto-regressive property.\n",
      "\n",
      "Overall, the attention mechanism enhances the model's ability to learn important features and dependencies from the input data, leading to improved performance in various tasks.\n"
     ]
    }
   ],
   "execution_count": 54
  },
  {
   "metadata": {
    "ExecuteTime": {
     "end_time": "2025-08-08T14:11:34.218346Z",
     "start_time": "2025-08-08T14:11:26.384358Z"
    }
   },
   "cell_type": "code",
   "source": [
    "response = chain.invoke(\n",
    "    \"Explain Scaled Dot-Product Attention Diagram.\"\n",
    ")\n",
    "\n",
    "print(response)#from images"
   ],
   "id": "c7abd9af2e3ae179",
   "outputs": [
    {
     "name": "stdout",
     "output_type": "stream",
     "text": [
      "The Scaled Dot-Product Attention diagram illustrates the process of computing attention using three main components: queries (Q), keys (K), and values (V). \n",
      "\n",
      "1. **Linear Transformations**: \n",
      "   - The diagram depicts linear layers that transform the input vectors Q, K, and V. Each of these inputs is processed through separate linear layers to produce the corresponding representations.\n",
      "\n",
      "2. **Concatenation**:\n",
      "   - After the linear transformations, the outputs are concatenated. This step combines all the transformed Q, K, and V vectors into a single tensor, preparing them for attention computation.\n",
      "\n",
      "3. **Scaled Dot-Product Attention**:\n",
      "   - The core component is the Scaled Dot-Product Attention block, where the attention mechanism is applied. This part takes the concatenated vectors and calculates the dot products, scaling them appropriately, and applying the softmax function to derive the attention weights.\n",
      "\n",
      "4. **Output**:\n",
      "   - The output from the Scaled Dot-Product Attention block is a weighted sum of the values (V), giving the final attention output that reflects the relationships defined by the queries and keys.\n",
      "\n",
      "In summary, the diagram highlights how input vectors are transformed, combined, and processed to compute the attention scores, ultimately leading to a refined output based on the relationships modeled by the attention mechanism.\n"
     ]
    }
   ],
   "execution_count": 55
  },
  {
   "metadata": {
    "ExecuteTime": {
     "end_time": "2025-08-08T14:13:45.887074Z",
     "start_time": "2025-08-08T14:13:40.223940Z"
    }
   },
   "cell_type": "code",
   "source": [
    "response = chain.invoke(\n",
    "    \"How to compute the matrix of output? \"\n",
    ")\n",
    "\n",
    "print(response)#from formulas"
   ],
   "id": "b598b872b33ba077",
   "outputs": [
    {
     "name": "stdout",
     "output_type": "stream",
     "text": [
      "To compute the matrix of outputs in the context of Scaled Dot-Product Attention, you use the following formula:\n",
      "\n",
      "\\[ \n",
      "\\text{Attention}(Q, K, V) = \\text{softmax}\\left(\\frac{Q K^T}{\\sqrt{d_k}}\\right) V \n",
      "\\]\n",
      "\n",
      "Here's a step-by-step breakdown:\n",
      "\n",
      "1. **Input Matrices**: Prepare input matrices for queries (Q), keys (K), and values (V).\n",
      "2. **Dot Product**: Compute the dot products between the query matrix (Q) and the transpose of the key matrix (K^T).\n",
      "3. **Scaling**: Scale the dot products by dividing by \\(\\sqrt{d_k}\\), where \\(d_k\\) is the dimension of the keys.\n",
      "4. **Softmax**: Apply the softmax function to the scaled dot products to obtain the attention weights.\n",
      "5. **Weighted Sum**: Multiply these attention weights by the value matrix (V) to get the final output matrix.\n",
      "\n",
      "This results in a weighted sum of the values based on the attention mechanism.\n"
     ]
    }
   ],
   "execution_count": 56
  },
  {
   "metadata": {
    "ExecuteTime": {
     "end_time": "2025-08-08T14:20:48.556718Z",
     "start_time": "2025-08-08T14:20:46.644265Z"
    }
   },
   "cell_type": "code",
   "source": [
    "response = chain.invoke(\n",
    "    \"Layer Type is Convolutional so what is the Maximum Path Length?\"\n",
    ")\n",
    "\n",
    "print(response)#from tables"
   ],
   "id": "cb6e8aa3420df77e",
   "outputs": [
    {
     "name": "stdout",
     "output_type": "stream",
     "text": [
      "The maximum path length for the Convolutional layer type is O(logk(n)), where k is the kernel size of convolutions and n is the sequence length.\n"
     ]
    }
   ],
   "execution_count": 63
  },
  {
   "metadata": {},
   "cell_type": "code",
   "outputs": [],
   "execution_count": null,
   "source": [
    "response = chain_with_sources.invoke(\n",
    "    \"What is multihead?\"\n",
    ")\n",
    "\n",
    "print(\"Response:\", response['response'])\n",
    "\n",
    "print(\"\\n\\nContext:\")\n",
    "for text in response['context']['texts']:\n",
    "    print(text.text)\n",
    "    print(\"Page number: \", text.metadata.page_number)\n",
    "    print(\"\\n\" + \"-\"*50 + \"\\n\")\n",
    "for image in response['context']['images']:\n",
    "    display_base64_image(image)"
   ],
   "id": "2bc40c4cc9aa1395"
  },
  {
   "metadata": {},
   "cell_type": "code",
   "outputs": [],
   "execution_count": null,
   "source": "",
   "id": "e09dc305a42c9fb7"
  },
  {
   "metadata": {},
   "cell_type": "code",
   "outputs": [],
   "execution_count": null,
   "source": "",
   "id": "84ca65cee2644c71"
  },
  {
   "metadata": {},
   "cell_type": "code",
   "outputs": [],
   "execution_count": null,
   "source": "",
   "id": "595bc3f8ed288e1f"
  }
 ],
 "metadata": {
  "kernelspec": {
   "display_name": "Python 3",
   "language": "python",
   "name": "python3"
  },
  "language_info": {
   "codemirror_mode": {
    "name": "ipython",
    "version": 2
   },
   "file_extension": ".py",
   "mimetype": "text/x-python",
   "name": "python",
   "nbconvert_exporter": "python",
   "pygments_lexer": "ipython2",
   "version": "2.7.6"
  }
 },
 "nbformat": 4,
 "nbformat_minor": 5
}
